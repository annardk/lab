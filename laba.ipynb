{
  "nbformat": 4,
  "nbformat_minor": 0,
  "metadata": {
    "colab": {
      "provenance": []
    },
    "kernelspec": {
      "name": "python3",
      "display_name": "Python 3"
    },
    "language_info": {
      "name": "python"
    }
  },
  "cells": [
    {
      "cell_type": "code",
      "execution_count": 13,
      "metadata": {
        "colab": {
          "base_uri": "https://localhost:8080/"
        },
        "id": "jGUp4KWC2H-O",
        "outputId": "e727785b-41d4-4594-fc0b-39dd688a09ef"
      },
      "outputs": [
        {
          "output_type": "stream",
          "name": "stdout",
          "text": [
            "Requirement already satisfied: gradio in /usr/local/lib/python3.10/dist-packages (5.7.1)\n",
            "Requirement already satisfied: aiofiles<24.0,>=22.0 in /usr/local/lib/python3.10/dist-packages (from gradio) (23.2.1)\n",
            "Requirement already satisfied: anyio<5.0,>=3.0 in /usr/local/lib/python3.10/dist-packages (from gradio) (3.7.1)\n",
            "Requirement already satisfied: fastapi<1.0,>=0.115.2 in /usr/local/lib/python3.10/dist-packages (from gradio) (0.115.5)\n",
            "Requirement already satisfied: ffmpy in /usr/local/lib/python3.10/dist-packages (from gradio) (0.4.0)\n",
            "Requirement already satisfied: gradio-client==1.5.0 in /usr/local/lib/python3.10/dist-packages (from gradio) (1.5.0)\n",
            "Requirement already satisfied: httpx>=0.24.1 in /usr/local/lib/python3.10/dist-packages (from gradio) (0.27.2)\n",
            "Requirement already satisfied: huggingface-hub>=0.25.1 in /usr/local/lib/python3.10/dist-packages (from gradio) (0.26.2)\n",
            "Requirement already satisfied: jinja2<4.0 in /usr/local/lib/python3.10/dist-packages (from gradio) (3.1.4)\n",
            "Requirement already satisfied: markupsafe~=2.0 in /usr/local/lib/python3.10/dist-packages (from gradio) (2.1.5)\n",
            "Requirement already satisfied: numpy<3.0,>=1.0 in /usr/local/lib/python3.10/dist-packages (from gradio) (1.26.4)\n",
            "Requirement already satisfied: orjson~=3.0 in /usr/local/lib/python3.10/dist-packages (from gradio) (3.10.11)\n",
            "Requirement already satisfied: packaging in /usr/local/lib/python3.10/dist-packages (from gradio) (24.2)\n",
            "Requirement already satisfied: pandas<3.0,>=1.0 in /usr/local/lib/python3.10/dist-packages (from gradio) (2.2.2)\n",
            "Requirement already satisfied: pillow<12.0,>=8.0 in /usr/local/lib/python3.10/dist-packages (from gradio) (11.0.0)\n",
            "Requirement already satisfied: pydantic>=2.0 in /usr/local/lib/python3.10/dist-packages (from gradio) (2.9.2)\n",
            "Requirement already satisfied: pydub in /usr/local/lib/python3.10/dist-packages (from gradio) (0.25.1)\n",
            "Requirement already satisfied: python-multipart==0.0.12 in /usr/local/lib/python3.10/dist-packages (from gradio) (0.0.12)\n",
            "Requirement already satisfied: pyyaml<7.0,>=5.0 in /usr/local/lib/python3.10/dist-packages (from gradio) (6.0.2)\n",
            "Requirement already satisfied: ruff>=0.2.2 in /usr/local/lib/python3.10/dist-packages (from gradio) (0.8.1)\n",
            "Requirement already satisfied: safehttpx<1.0,>=0.1.1 in /usr/local/lib/python3.10/dist-packages (from gradio) (0.1.1)\n",
            "Requirement already satisfied: semantic-version~=2.0 in /usr/local/lib/python3.10/dist-packages (from gradio) (2.10.0)\n",
            "Requirement already satisfied: starlette<1.0,>=0.40.0 in /usr/local/lib/python3.10/dist-packages (from gradio) (0.41.3)\n",
            "Requirement already satisfied: tomlkit==0.12.0 in /usr/local/lib/python3.10/dist-packages (from gradio) (0.12.0)\n",
            "Requirement already satisfied: typer<1.0,>=0.12 in /usr/local/lib/python3.10/dist-packages (from gradio) (0.13.0)\n",
            "Requirement already satisfied: typing-extensions~=4.0 in /usr/local/lib/python3.10/dist-packages (from gradio) (4.12.2)\n",
            "Requirement already satisfied: uvicorn>=0.14.0 in /usr/local/lib/python3.10/dist-packages (from gradio) (0.32.1)\n",
            "Requirement already satisfied: fsspec in /usr/local/lib/python3.10/dist-packages (from gradio-client==1.5.0->gradio) (2024.10.0)\n",
            "Requirement already satisfied: websockets<13.0,>=10.0 in /usr/local/lib/python3.10/dist-packages (from gradio-client==1.5.0->gradio) (12.0)\n",
            "Requirement already satisfied: idna>=2.8 in /usr/local/lib/python3.10/dist-packages (from anyio<5.0,>=3.0->gradio) (3.10)\n",
            "Requirement already satisfied: sniffio>=1.1 in /usr/local/lib/python3.10/dist-packages (from anyio<5.0,>=3.0->gradio) (1.3.1)\n",
            "Requirement already satisfied: exceptiongroup in /usr/local/lib/python3.10/dist-packages (from anyio<5.0,>=3.0->gradio) (1.2.2)\n",
            "Requirement already satisfied: certifi in /usr/local/lib/python3.10/dist-packages (from httpx>=0.24.1->gradio) (2024.8.30)\n",
            "Requirement already satisfied: httpcore==1.* in /usr/local/lib/python3.10/dist-packages (from httpx>=0.24.1->gradio) (1.0.7)\n",
            "Requirement already satisfied: h11<0.15,>=0.13 in /usr/local/lib/python3.10/dist-packages (from httpcore==1.*->httpx>=0.24.1->gradio) (0.14.0)\n",
            "Requirement already satisfied: filelock in /usr/local/lib/python3.10/dist-packages (from huggingface-hub>=0.25.1->gradio) (3.16.1)\n",
            "Requirement already satisfied: requests in /usr/local/lib/python3.10/dist-packages (from huggingface-hub>=0.25.1->gradio) (2.32.3)\n",
            "Requirement already satisfied: tqdm>=4.42.1 in /usr/local/lib/python3.10/dist-packages (from huggingface-hub>=0.25.1->gradio) (4.66.6)\n",
            "Requirement already satisfied: python-dateutil>=2.8.2 in /usr/local/lib/python3.10/dist-packages (from pandas<3.0,>=1.0->gradio) (2.8.2)\n",
            "Requirement already satisfied: pytz>=2020.1 in /usr/local/lib/python3.10/dist-packages (from pandas<3.0,>=1.0->gradio) (2024.2)\n",
            "Requirement already satisfied: tzdata>=2022.7 in /usr/local/lib/python3.10/dist-packages (from pandas<3.0,>=1.0->gradio) (2024.2)\n",
            "Requirement already satisfied: annotated-types>=0.6.0 in /usr/local/lib/python3.10/dist-packages (from pydantic>=2.0->gradio) (0.7.0)\n",
            "Requirement already satisfied: pydantic-core==2.23.4 in /usr/local/lib/python3.10/dist-packages (from pydantic>=2.0->gradio) (2.23.4)\n",
            "Requirement already satisfied: click>=8.0.0 in /usr/local/lib/python3.10/dist-packages (from typer<1.0,>=0.12->gradio) (8.1.7)\n",
            "Requirement already satisfied: shellingham>=1.3.0 in /usr/local/lib/python3.10/dist-packages (from typer<1.0,>=0.12->gradio) (1.5.4)\n",
            "Requirement already satisfied: rich>=10.11.0 in /usr/local/lib/python3.10/dist-packages (from typer<1.0,>=0.12->gradio) (13.9.4)\n",
            "Requirement already satisfied: six>=1.5 in /usr/local/lib/python3.10/dist-packages (from python-dateutil>=2.8.2->pandas<3.0,>=1.0->gradio) (1.16.0)\n",
            "Requirement already satisfied: markdown-it-py>=2.2.0 in /usr/local/lib/python3.10/dist-packages (from rich>=10.11.0->typer<1.0,>=0.12->gradio) (3.0.0)\n",
            "Requirement already satisfied: pygments<3.0.0,>=2.13.0 in /usr/local/lib/python3.10/dist-packages (from rich>=10.11.0->typer<1.0,>=0.12->gradio) (2.18.0)\n",
            "Requirement already satisfied: charset-normalizer<4,>=2 in /usr/local/lib/python3.10/dist-packages (from requests->huggingface-hub>=0.25.1->gradio) (3.4.0)\n",
            "Requirement already satisfied: urllib3<3,>=1.21.1 in /usr/local/lib/python3.10/dist-packages (from requests->huggingface-hub>=0.25.1->gradio) (2.2.3)\n",
            "Requirement already satisfied: mdurl~=0.1 in /usr/local/lib/python3.10/dist-packages (from markdown-it-py>=2.2.0->rich>=10.11.0->typer<1.0,>=0.12->gradio) (0.1.2)\n"
          ]
        }
      ],
      "source": [
        "pip install gradio"
      ]
    },
    {
      "cell_type": "code",
      "source": [
        "pip install pymorphy2"
      ],
      "metadata": {
        "colab": {
          "base_uri": "https://localhost:8080/"
        },
        "id": "XuFXf82A2NFq",
        "outputId": "1d57dc23-9ed0-4869-b876-59c0ecad8c83"
      },
      "execution_count": 12,
      "outputs": [
        {
          "output_type": "stream",
          "name": "stdout",
          "text": [
            "Requirement already satisfied: pymorphy2 in /usr/local/lib/python3.10/dist-packages (0.9.1)\n",
            "Requirement already satisfied: dawg-python>=0.7.1 in /usr/local/lib/python3.10/dist-packages (from pymorphy2) (0.7.2)\n",
            "Requirement already satisfied: pymorphy2-dicts-ru<3.0,>=2.4 in /usr/local/lib/python3.10/dist-packages (from pymorphy2) (2.4.417127.4579844)\n",
            "Requirement already satisfied: docopt>=0.6 in /usr/local/lib/python3.10/dist-packages (from pymorphy2) (0.6.2)\n"
          ]
        }
      ]
    },
    {
      "cell_type": "code",
      "source": [
        "import pymorphy2\n",
        "import gradio as gr\n",
        "import re\n",
        "\n",
        "morph = pymorphy2.MorphAnalyzer()\n",
        "\n",
        "pos_translation = {\n",
        "    'NOUN': 'іменник',\n",
        "    'VERB': 'дієслово',\n",
        "    'ADJF': 'прикметник',\n",
        "    'INFN': 'інфінітив',\n",
        "    'NUMR': 'числівник',\n",
        "    'ADVB': 'прислівник',\n",
        "    'NPRO': 'займенник',\n",
        "    'PREP': 'прийменник',\n",
        "    'CONJ': 'сполучник',\n",
        "    'PRCL': 'частка',\n",
        "    'INTJ': 'вигук',\n",
        "}\n",
        "\n",
        "gender_translation = {\n",
        "    'masc': 'чоловічий',\n",
        "    'femn': 'жіночий',\n",
        "    'neut': 'середній',\n",
        "}\n",
        "\n",
        "number_translation = {\n",
        "    'sing': 'однина',\n",
        "    'plur': 'множина',\n",
        "}\n",
        "\n",
        "case_translation = {\n",
        "    'nomn': 'називний',\n",
        "    'gent': 'родовий',\n",
        "    'datv': 'давальний',\n",
        "    'accs': 'знахідний',\n",
        "    'ablt': 'орудний',\n",
        "    'loct': 'місцевий',\n",
        "    'voct': 'кличний',\n",
        "    'gen2': 'родовий (альтернативний)',\n",
        "    'acc2': 'знахідний (альтернативний)',\n",
        "    'loc2': 'місцевий (альтернативний)',\n",
        "}\n",
        "\n",
        "tense_translation = {\n",
        "    'past': 'минулий',\n",
        "    'pres': 'теперішній',\n",
        "    'futr': 'майбутній',\n",
        "}\n",
        "\n",
        "voice_translation = {\n",
        "    'actv': 'активний',\n",
        "    'pssv': 'пасивний',\n",
        "}\n",
        "\n",
        "aspect_translation = {\n",
        "    'perf': 'доконаний',\n",
        "    'impf': 'недоконаний',\n",
        "}\n",
        "\n",
        "def analyze_word(word):\n",
        "    parsed_word = morph.parse(word)[0]\n",
        "    pos = parsed_word.tag.POS\n",
        "    info = {\n",
        "        'Слово': word\n",
        "    }\n",
        "    if word in ['і', 'що']:\n",
        "        info['Частина мови'] = 'сполучник'\n",
        "    elif pos == 'VERB' and (word.endswith('ти') or word.endswith('є') or word.endswith('ть') or word.endswith('ться')):\n",
        "        info['Частина мови'] = 'дієслово'\n",
        "        info['Рід'] = gender_translation.get(parsed_word.tag.gender, 'невизначений')\n",
        "        info['Число'] = number_translation.get(parsed_word.tag.number, 'невизначене')\n",
        "        info['Відмінок'] = case_translation.get(parsed_word.tag.case, 'невизначений')\n",
        "        info['Час'] = tense_translation.get(parsed_word.tag.tense, 'невизначений')\n",
        "        info['Інфінітив'] = 'так' if 'INFN' in parsed_word.tag else 'ні'\n",
        "    elif pos == 'NOUN':\n",
        "        info['Частина мови'] = 'іменник'\n",
        "        info['Рід'] = gender_translation.get(parsed_word.tag.gender, 'невизначений')\n",
        "        info['Число'] = number_translation.get(parsed_word.tag.number, 'невизначене')\n",
        "        info['Відмінок'] = case_translation.get(parsed_word.tag.case, 'невизначений')\n",
        "    elif pos == 'ADJF':\n",
        "        info['Частина мови'] = 'прикметник'\n",
        "        info['Рід'] = gender_translation.get(parsed_word.tag.gender, 'невизначений')\n",
        "        info['Відмінок'] = case_translation.get(parsed_word.tag.case, 'невизначений')\n",
        "    elif pos == 'NUMR':\n",
        "        info['Частина мови'] = 'числівник'\n",
        "    elif pos == 'ADVB':\n",
        "        info['Частина мови'] = 'прислівник'\n",
        "    elif pos == 'NPRO':\n",
        "        info['Частина мови'] = 'займенник'\n",
        "    elif pos == 'PREP':\n",
        "        info['Частина мови'] = 'прийменник'\n",
        "    elif pos == 'PRCL':\n",
        "        info['Частина мови'] = 'частка'\n",
        "    elif pos == 'CONJ':\n",
        "        info['Частина мови'] = 'сполучник'\n",
        "    elif pos == 'INTJ':\n",
        "        info['Частина мови'] = 'вигук'\n",
        "\n",
        "    return {key: value for key, value in info.items() if value is not None}\n",
        "\n",
        "def process_text(text):\n",
        "    words = re.findall(r'\\b\\w+\\b', text)\n",
        "    results = [analyze_word(word) for word in words]\n",
        "    formatted_result = '\\n\\n'.join(\n",
        "        [\n",
        "            '{}:\\n{}'.format(result['Слово'], '\\n'.join(f'{k}: {v}' for k, v in result.items() if k != 'Слово'))\n",
        "            for result in results\n",
        "        ]\n",
        "    )\n",
        "    return formatted_result\n",
        "\n",
        "with gr.Blocks() as demo:\n",
        "    gr.Markdown('# Аналіз граматичної інформації')\n",
        "    gr.Markdown('Цей модуль визначає граматичну інформацію слів українською мовою🤍.')\n",
        "    with gr.Row():\n",
        "        text_input = gr.Textbox(label='Введіть текст для аналізу🐼', placeholder='Напишіть слово або речення...', lines=4)\n",
        "        text_output = gr.Textbox(label='Граматична інформація🐯', placeholder='Результат', lines=4)\n",
        "    process_button = gr.Button('Обробити')\n",
        "    process_button.click(fn=process_text, inputs=text_input, outputs=text_output)\n",
        "\n",
        "demo.launch()\n"
      ],
      "metadata": {
        "colab": {
          "base_uri": "https://localhost:8080/",
          "height": 646
        },
        "id": "IzvslQDE32Tx",
        "outputId": "25e5e7e1-869d-40be-f53a-b2812aeadce0"
      },
      "execution_count": 37,
      "outputs": [
        {
          "output_type": "stream",
          "name": "stdout",
          "text": [
            "Running Gradio in a Colab notebook requires sharing enabled. Automatically setting `share=True` (you can turn this off by setting `share=False` in `launch()` explicitly).\n",
            "\n",
            "Colab notebook detected. To show errors in colab notebook, set debug=True in launch()\n",
            "* Running on public URL: https://453d64a7b37709f26b.gradio.live\n",
            "\n",
            "This share link expires in 72 hours. For free permanent hosting and GPU upgrades, run `gradio deploy` from the terminal in the working directory to deploy to Hugging Face Spaces (https://huggingface.co/spaces)\n"
          ]
        },
        {
          "output_type": "display_data",
          "data": {
            "text/plain": [
              "<IPython.core.display.HTML object>"
            ],
            "text/html": [
              "<div><iframe src=\"https://453d64a7b37709f26b.gradio.live\" width=\"100%\" height=\"500\" allow=\"autoplay; camera; microphone; clipboard-read; clipboard-write;\" frameborder=\"0\" allowfullscreen></iframe></div>"
            ]
          },
          "metadata": {}
        },
        {
          "output_type": "execute_result",
          "data": {
            "text/plain": []
          },
          "metadata": {},
          "execution_count": 37
        }
      ]
    }
  ]
}